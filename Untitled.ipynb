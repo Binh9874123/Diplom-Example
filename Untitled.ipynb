{
 "cells": [
  {
   "cell_type": "code",
   "execution_count": 24,
   "id": "3b230769",
   "metadata": {},
   "outputs": [
    {
     "ename": "ImportError",
     "evalue": "cannot import name '_registerMatType' from 'cv2.cv2' (C:\\Users\\Binh9874123\\anaconda4\\lib\\site-packages\\cv2\\cv2.cp39-win_amd64.pyd)",
     "output_type": "error",
     "traceback": [
      "\u001b[1;31m---------------------------------------------------------------------------\u001b[0m",
      "\u001b[1;31mImportError\u001b[0m                               Traceback (most recent call last)",
      "\u001b[1;32mC:\\Users\\BINH98~1\\AppData\\Local\\Temp/ipykernel_14388/2218089352.py\u001b[0m in \u001b[0;36m<module>\u001b[1;34m\u001b[0m\n\u001b[0;32m      5\u001b[0m \u001b[1;32mimport\u001b[0m \u001b[0mskimage\u001b[0m\u001b[1;33m.\u001b[0m\u001b[0mcolor\u001b[0m\u001b[1;33m\u001b[0m\u001b[1;33m\u001b[0m\u001b[0m\n\u001b[0;32m      6\u001b[0m \u001b[1;32mimport\u001b[0m \u001b[0mskimage\u001b[0m\u001b[1;33m.\u001b[0m\u001b[0mfilters\u001b[0m\u001b[1;33m\u001b[0m\u001b[1;33m\u001b[0m\u001b[0m\n\u001b[1;32m----> 7\u001b[1;33m \u001b[1;32mimport\u001b[0m \u001b[0mcv2\u001b[0m\u001b[1;33m\u001b[0m\u001b[1;33m\u001b[0m\u001b[0m\n\u001b[0m\u001b[0;32m      8\u001b[0m \u001b[1;32mfrom\u001b[0m \u001b[0mcv2\u001b[0m\u001b[1;33m.\u001b[0m\u001b[0mximgproc\u001b[0m \u001b[1;32mimport\u001b[0m \u001b[0manisotropicDiffusion\u001b[0m\u001b[1;33m\u001b[0m\u001b[1;33m\u001b[0m\u001b[0m\n",
      "\u001b[1;32m~\\anaconda4\\lib\\site-packages\\cv2\\__init__.py\u001b[0m in \u001b[0;36m<module>\u001b[1;34m\u001b[0m\n\u001b[0;32m      7\u001b[0m \u001b[1;33m\u001b[0m\u001b[0m\n\u001b[0;32m      8\u001b[0m \u001b[1;32mfrom\u001b[0m \u001b[1;33m.\u001b[0m\u001b[0mcv2\u001b[0m \u001b[1;32mimport\u001b[0m \u001b[1;33m*\u001b[0m\u001b[1;33m\u001b[0m\u001b[1;33m\u001b[0m\u001b[0m\n\u001b[1;32m----> 9\u001b[1;33m \u001b[1;32mfrom\u001b[0m \u001b[1;33m.\u001b[0m\u001b[0mcv2\u001b[0m \u001b[1;32mimport\u001b[0m \u001b[0m_registerMatType\u001b[0m\u001b[1;33m\u001b[0m\u001b[1;33m\u001b[0m\u001b[0m\n\u001b[0m\u001b[0;32m     10\u001b[0m \u001b[1;32mfrom\u001b[0m \u001b[1;33m.\u001b[0m \u001b[1;32mimport\u001b[0m \u001b[0mmat_wrapper\u001b[0m\u001b[1;33m\u001b[0m\u001b[1;33m\u001b[0m\u001b[0m\n\u001b[0;32m     11\u001b[0m \u001b[1;32mfrom\u001b[0m \u001b[1;33m.\u001b[0m \u001b[1;32mimport\u001b[0m \u001b[0mgapi\u001b[0m\u001b[1;33m\u001b[0m\u001b[1;33m\u001b[0m\u001b[0m\n",
      "\u001b[1;31mImportError\u001b[0m: cannot import name '_registerMatType' from 'cv2.cv2' (C:\\Users\\Binh9874123\\anaconda4\\lib\\site-packages\\cv2\\cv2.cp39-win_amd64.pyd)"
     ]
    }
   ],
   "source": [
    "\n",
    "import numpy as np\n",
    "import glob\n",
    "import matplotlib.pyplot as plt\n",
    "import skimage.io\n",
    "import skimage.color\n",
    "import skimage.filters\n",
    "import cv2\n",
    "from cv2.ximgproc import anisotropicDiffusion"
   ]
  },
  {
   "cell_type": "code",
   "execution_count": 25,
   "id": "ab84f315",
   "metadata": {},
   "outputs": [
    {
     "name": "stdout",
     "output_type": "stream",
     "text": [
      "Requirement already satisfied: opencv-python in c:\\users\\binh9874123\\anaconda4\\lib\\site-packages (4.5.5.64)\n",
      "Requirement already satisfied: numpy>=1.14.5 in c:\\users\\binh9874123\\anaconda4\\lib\\site-packages (from opencv-python) (1.20.3)\n"
     ]
    },
    {
     "ename": "NameError",
     "evalue": "name 'cv2' is not defined",
     "output_type": "error",
     "traceback": [
      "\u001b[1;31m---------------------------------------------------------------------------\u001b[0m",
      "\u001b[1;31mNameError\u001b[0m                                 Traceback (most recent call last)",
      "\u001b[1;32mC:\\Users\\BINH98~1\\AppData\\Local\\Temp/ipykernel_14388/3249879024.py\u001b[0m in \u001b[0;36m<module>\u001b[1;34m\u001b[0m\n\u001b[0;32m      1\u001b[0m \u001b[0mget_ipython\u001b[0m\u001b[1;33m(\u001b[0m\u001b[1;33m)\u001b[0m\u001b[1;33m.\u001b[0m\u001b[0msystem\u001b[0m\u001b[1;33m(\u001b[0m\u001b[1;34m'pip install opencv-python'\u001b[0m\u001b[1;33m)\u001b[0m\u001b[1;33m\u001b[0m\u001b[1;33m\u001b[0m\u001b[0m\n\u001b[0;32m      2\u001b[0m \u001b[1;33m\u001b[0m\u001b[0m\n\u001b[1;32m----> 3\u001b[1;33m \u001b[0mimage1\u001b[0m \u001b[1;33m=\u001b[0m \u001b[0mcv2\u001b[0m\u001b[1;33m.\u001b[0m\u001b[0mimread\u001b[0m\u001b[1;33m(\u001b[0m\u001b[1;34m'd218.tif'\u001b[0m\u001b[1;33m)\u001b[0m\u001b[1;33m\u001b[0m\u001b[1;33m\u001b[0m\u001b[0m\n\u001b[0m\u001b[0;32m      4\u001b[0m \u001b[0mplt\u001b[0m\u001b[1;33m.\u001b[0m\u001b[0mimshow\u001b[0m\u001b[1;33m(\u001b[0m\u001b[0mimage1\u001b[0m\u001b[1;33m)\u001b[0m\u001b[1;33m\u001b[0m\u001b[1;33m\u001b[0m\u001b[0m\n\u001b[0;32m      5\u001b[0m \u001b[0mplt\u001b[0m\u001b[1;33m.\u001b[0m\u001b[0mtitle\u001b[0m\u001b[1;33m(\u001b[0m\u001b[1;34m'first image'\u001b[0m\u001b[1;33m)\u001b[0m\u001b[1;33m\u001b[0m\u001b[1;33m\u001b[0m\u001b[0m\n",
      "\u001b[1;31mNameError\u001b[0m: name 'cv2' is not defined"
     ]
    }
   ],
   "source": [
    "\n",
    "image1 = cv2.imread('d218.tif')\n",
    "plt.imshow(image1)\n",
    "plt.title('first image')\n"
   ]
  },
  {
   "cell_type": "code",
   "execution_count": null,
   "id": "531a66c6",
   "metadata": {},
   "outputs": [],
   "source": [
    "def threshold_Ima( image1 : 'imageio.core.util.image'=\"\" ):\n",
    "    img = cv2.cvtColor(image1, cv2.COLOR_BGR2GRAY)\n",
    "    \n",
    "    ret, thresh1 = cv2.threshold(img, 120, 255, cv2.THRESH_BINARY + cv2.THRESH_OTSU)   \n",
    "    plt.imshow(thresh1)\n",
    "    plt.title('Otsu Threshold')\n",
    "    return thresh1\n"
   ]
  },
  {
   "cell_type": "code",
   "execution_count": null,
   "id": "5a4e57a8",
   "metadata": {},
   "outputs": [],
   "source": [
    "thresh1 = threshold_Ima(image1)"
   ]
  },
  {
   "cell_type": "code",
   "execution_count": 2,
   "id": "e07d9cfc",
   "metadata": {},
   "outputs": [],
   "source": [
    "def mul_Ima(image1 : 'imageio.core.util.image'=\"\" , image2 : 'imageio.core.util.image'=\"\"): \n",
    "    (h, w, d) = image1.shape\n",
    "    \n",
    "    for i in range(h) :\n",
    "        for j in range(w) :\n",
    "            image1[i , j] = image1[i,j] * image2[i,j]\n",
    "    plt.imshow(image1)\n",
    "    plt.title('Multi Image')\n",
    "    return image1\n",
    "\n",
    "        "
   ]
  },
  {
   "cell_type": "code",
   "execution_count": 3,
   "id": "b72ef1bd",
   "metadata": {},
   "outputs": [
    {
     "ename": "NameError",
     "evalue": "name 'image1' is not defined",
     "output_type": "error",
     "traceback": [
      "\u001b[1;31m---------------------------------------------------------------------------\u001b[0m",
      "\u001b[1;31mNameError\u001b[0m                                 Traceback (most recent call last)",
      "\u001b[1;32mC:\\Users\\BINH98~1\\AppData\\Local\\Temp/ipykernel_14388/267122088.py\u001b[0m in \u001b[0;36m<module>\u001b[1;34m\u001b[0m\n\u001b[1;32m----> 1\u001b[1;33m \u001b[0mMul1\u001b[0m \u001b[1;33m=\u001b[0m \u001b[0mmul_Ima\u001b[0m\u001b[1;33m(\u001b[0m\u001b[0mimage1\u001b[0m \u001b[1;33m,\u001b[0m \u001b[0mthresh1\u001b[0m\u001b[1;33m)\u001b[0m\u001b[1;33m\u001b[0m\u001b[1;33m\u001b[0m\u001b[0m\n\u001b[0m",
      "\u001b[1;31mNameError\u001b[0m: name 'image1' is not defined"
     ]
    }
   ],
   "source": [
    "Mul1 = mul_Ima(image1 , thresh1)"
   ]
  },
  {
   "cell_type": "code",
   "execution_count": 4,
   "id": "470239c2",
   "metadata": {},
   "outputs": [],
   "source": [
    "def heqm_Ima(image1 : 'imageio.core.util.image'=\"\" , image2 : 'imageio.core.util.image'=\"\"): \n",
    "    # creating a Histograms Equalization\n",
    "    # of a image using cv2.equalizeHist()\n",
    "    equ = cv2.equalizeHist(image2)\n",
    "    # stacking images side-by-side\n",
    "    res = np.hstack((image2, equ))\n",
    "  \n",
    "    # show image input vs output\n",
    "    plt.imshow(res)\n",
    "    plt.title('Heqm Image')\n",
    "    return res"
   ]
  },
  {
   "cell_type": "code",
   "execution_count": 5,
   "id": "b3b9d94c",
   "metadata": {},
   "outputs": [
    {
     "ename": "NameError",
     "evalue": "name 'Mul1' is not defined",
     "output_type": "error",
     "traceback": [
      "\u001b[1;31m---------------------------------------------------------------------------\u001b[0m",
      "\u001b[1;31mNameError\u001b[0m                                 Traceback (most recent call last)",
      "\u001b[1;32mC:\\Users\\BINH98~1\\AppData\\Local\\Temp/ipykernel_14388/183893602.py\u001b[0m in \u001b[0;36m<module>\u001b[1;34m\u001b[0m\n\u001b[1;32m----> 1\u001b[1;33m \u001b[0mHeqm1\u001b[0m \u001b[1;33m=\u001b[0m \u001b[0mheqm_Ima\u001b[0m\u001b[1;33m(\u001b[0m\u001b[0mMul1\u001b[0m \u001b[1;33m,\u001b[0m \u001b[0mthresh1\u001b[0m\u001b[1;33m)\u001b[0m\u001b[1;33m\u001b[0m\u001b[1;33m\u001b[0m\u001b[0m\n\u001b[0m",
      "\u001b[1;31mNameError\u001b[0m: name 'Mul1' is not defined"
     ]
    }
   ],
   "source": [
    "Heqm1 = heqm_Ima(Mul1 , thresh1)"
   ]
  },
  {
   "cell_type": "code",
   "execution_count": 6,
   "id": "7d54f1dc",
   "metadata": {},
   "outputs": [
    {
     "ename": "NameError",
     "evalue": "name 'Heqm1' is not defined",
     "output_type": "error",
     "traceback": [
      "\u001b[1;31m---------------------------------------------------------------------------\u001b[0m",
      "\u001b[1;31mNameError\u001b[0m                                 Traceback (most recent call last)",
      "\u001b[1;32mC:\\Users\\BINH98~1\\AppData\\Local\\Temp/ipykernel_14388/1436763198.py\u001b[0m in \u001b[0;36m<module>\u001b[1;34m\u001b[0m\n\u001b[1;32m----> 1\u001b[1;33m \u001b[0mchanel_3\u001b[0m\u001b[1;33m=\u001b[0m \u001b[0mnp\u001b[0m\u001b[1;33m.\u001b[0m\u001b[0mstack\u001b[0m\u001b[1;33m(\u001b[0m\u001b[1;33m(\u001b[0m\u001b[0mHeqm1\u001b[0m\u001b[1;33m,\u001b[0m\u001b[1;33m)\u001b[0m\u001b[1;33m*\u001b[0m\u001b[1;36m3\u001b[0m\u001b[1;33m,\u001b[0m \u001b[0maxis\u001b[0m\u001b[1;33m=\u001b[0m\u001b[1;33m-\u001b[0m\u001b[1;36m1\u001b[0m\u001b[1;33m)\u001b[0m\u001b[1;33m\u001b[0m\u001b[1;33m\u001b[0m\u001b[0m\n\u001b[0m\u001b[0;32m      2\u001b[0m \u001b[0mprint\u001b[0m\u001b[1;33m(\u001b[0m\u001b[0mchanel_3\u001b[0m\u001b[1;33m.\u001b[0m\u001b[0mshape\u001b[0m\u001b[1;33m)\u001b[0m\u001b[1;33m\u001b[0m\u001b[1;33m\u001b[0m\u001b[0m\n\u001b[0;32m      3\u001b[0m \u001b[0mAndif\u001b[0m \u001b[1;33m=\u001b[0m \u001b[0manisotropicDiffusion\u001b[0m\u001b[1;33m(\u001b[0m\u001b[0mchanel_3\u001b[0m\u001b[1;33m,\u001b[0m \u001b[1;36m0.2\u001b[0m\u001b[1;33m,\u001b[0m\u001b[1;36m0.1\u001b[0m\u001b[1;33m,\u001b[0m \u001b[1;36m10\u001b[0m\u001b[1;33m)\u001b[0m\u001b[1;33m\u001b[0m\u001b[1;33m\u001b[0m\u001b[0m\n\u001b[0;32m      4\u001b[0m \u001b[0mplt\u001b[0m\u001b[1;33m.\u001b[0m\u001b[0mimshow\u001b[0m\u001b[1;33m(\u001b[0m\u001b[0mAndif\u001b[0m\u001b[1;33m)\u001b[0m\u001b[1;33m\u001b[0m\u001b[1;33m\u001b[0m\u001b[0m\n\u001b[0;32m      5\u001b[0m \u001b[0mplt\u001b[0m\u001b[1;33m.\u001b[0m\u001b[0mtitle\u001b[0m\u001b[1;33m(\u001b[0m\u001b[1;34m'Andif Image'\u001b[0m\u001b[1;33m)\u001b[0m\u001b[1;33m\u001b[0m\u001b[1;33m\u001b[0m\u001b[0m\n",
      "\u001b[1;31mNameError\u001b[0m: name 'Heqm1' is not defined"
     ]
    }
   ],
   "source": [
    "\n",
    "chanel_3= np.stack((Heqm1,)*3, axis=-1)\n",
    "print(chanel_3.shape)\n",
    "Andif = anisotropicDiffusion(chanel_3, 0.2,0.1, 10) \n",
    "plt.imshow(Andif)\n",
    "plt.title('Andif Image')"
   ]
  },
  {
   "cell_type": "code",
   "execution_count": 7,
   "id": "e6dbb895",
   "metadata": {},
   "outputs": [],
   "source": [
    "def Expand_ima(scale: int ,image1 : 'imageio.core.util.image'=\"\" ): \n",
    "    (h, w ,d) = image1.shape\n",
    "    expand = cv2.resize(image1 , (w * scale , h * scale) )\n",
    "    plt.imshow(expand)\n",
    "    plt.title('Expand Image')\n",
    "    return expand\n",
    "    \n",
    "    "
   ]
  },
  {
   "cell_type": "code",
   "execution_count": 8,
   "id": "5c8f727b",
   "metadata": {},
   "outputs": [
    {
     "ename": "NameError",
     "evalue": "name 'Andif' is not defined",
     "output_type": "error",
     "traceback": [
      "\u001b[1;31m---------------------------------------------------------------------------\u001b[0m",
      "\u001b[1;31mNameError\u001b[0m                                 Traceback (most recent call last)",
      "\u001b[1;32mC:\\Users\\BINH98~1\\AppData\\Local\\Temp/ipykernel_14388/3291590925.py\u001b[0m in \u001b[0;36m<module>\u001b[1;34m\u001b[0m\n\u001b[1;32m----> 1\u001b[1;33m \u001b[0mExpand1\u001b[0m \u001b[1;33m=\u001b[0m \u001b[0mExpand_ima\u001b[0m\u001b[1;33m(\u001b[0m\u001b[1;36m10\u001b[0m \u001b[1;33m,\u001b[0m \u001b[0mAndif\u001b[0m\u001b[1;33m)\u001b[0m\u001b[1;33m\u001b[0m\u001b[1;33m\u001b[0m\u001b[0m\n\u001b[0m",
      "\u001b[1;31mNameError\u001b[0m: name 'Andif' is not defined"
     ]
    }
   ],
   "source": [
    "Expand1 = Expand_ima(10 , Andif)"
   ]
  },
  {
   "cell_type": "code",
   "execution_count": null,
   "id": "868ad05d",
   "metadata": {},
   "outputs": [],
   "source": [
    "def Strel_ima(Width : int , Height: int , shape: 'string' ):\n",
    "    file = open('data.txt','w')\n",
    "    file.write(str(Height) )\n",
    "    file.write('\\n' )\n",
    "    file.write(str(Width))\n",
    "    file.write('\\n' )\n",
    "    file.write(str(shape) )\n",
    "    file.close\n",
    "    return "
   ]
  },
  {
   "cell_type": "code",
   "execution_count": null,
   "id": "334571c0",
   "metadata": {},
   "outputs": [],
   "source": [
    "(h, w ,d) = Expand1.shape\n",
    "Strel_ima(h , w ,'square')"
   ]
  },
  {
   "cell_type": "code",
   "execution_count": null,
   "id": "d2e4bf24",
   "metadata": {},
   "outputs": [],
   "source": [
    "def Erosion_ima( File_text: 'string' , Repetitions : 'int' ,image1 : 'imageio.core.util.image'=\"\" ):\n",
    "    file = open(File_text,'r')\n",
    "    h = int(file.readline())\n",
    "    w = int(file.readline())\n",
    "    \n",
    "    # Taking a matrix of size  as the kernel\n",
    "    kernel = np.ones((10,10), np.uint8)#?????\n",
    "    \n",
    "    '''A kernel(a matrix of odd size(3,5,7) is convolved with the image\n",
    "A pixel element in the original image is ‘1’ if at least one pixel under the kernel is ‘1’.\n",
    "It increases the white region in the image or the size of the foreground object increases '''\n",
    "    print(kernel)\n",
    "    img_erosion = cv2.erode(image1, kernel, Repetitions)\n",
    "    plt.imshow(img_erosion)\n",
    "    plt.title('Erosion Image')\n",
    "    return img_erosion"
   ]
  },
  {
   "cell_type": "code",
   "execution_count": 3,
   "id": "bbbff921",
   "metadata": {
    "scrolled": true
   },
   "outputs": [
    {
     "ename": "NameError",
     "evalue": "name 'Erosion_ima' is not defined",
     "output_type": "error",
     "traceback": [
      "\u001b[1;31m---------------------------------------------------------------------------\u001b[0m",
      "\u001b[1;31mNameError\u001b[0m                                 Traceback (most recent call last)",
      "\u001b[1;32mC:\\Users\\BINH98~1\\AppData\\Local\\Temp/ipykernel_20736/706406228.py\u001b[0m in \u001b[0;36m<module>\u001b[1;34m\u001b[0m\n\u001b[1;32m----> 1\u001b[1;33m \u001b[0mErosion1\u001b[0m \u001b[1;33m=\u001b[0m \u001b[0mErosion_ima\u001b[0m\u001b[1;33m(\u001b[0m\u001b[1;34m'data.txt'\u001b[0m \u001b[1;33m,\u001b[0m \u001b[1;36m10\u001b[0m \u001b[1;33m,\u001b[0m \u001b[0mExpand1\u001b[0m\u001b[1;33m)\u001b[0m\u001b[1;33m\u001b[0m\u001b[1;33m\u001b[0m\u001b[0m\n\u001b[0m",
      "\u001b[1;31mNameError\u001b[0m: name 'Erosion_ima' is not defined"
     ]
    }
   ],
   "source": [
    "Erosion1 = Erosion_ima('data.txt' , 10 , Expand1)"
   ]
  },
  {
   "cell_type": "code",
   "execution_count": 1,
   "id": "8ed909ab",
   "metadata": {},
   "outputs": [],
   "source": [
    "def Reconstruct_ima(image : 'imageio.core.util.image'=\"\" , marker :'imageio.core.util.image'=\"\"):\n",
    "        img = cv.imread(marker)\n",
    "       # Taking a matrix of size  as the kernel\n",
    "        kernel = np.ones((10,10), np.uint8)\n",
    "        opening = cv.morphologyEx(img, cv.MORPH_OPEN, kernel)\n",
    "        plt.imshow(opening)\n",
    "        plt.title('Reconstruct Image')\n",
    "        return opening\n",
    "        \n",
    "       #closing = cv.morphologyEx(img, cv.MORPH_CLOSE, kernel)"
   ]
  },
  {
   "cell_type": "code",
   "execution_count": null,
   "id": "ce7af87d",
   "metadata": {},
   "outputs": [],
   "source": [
    "def Invert_ima(image : 'imageio.core.util.image'=\"\" ):\n",
    "    img = cv2.imread(image)\n",
    "    img_not = cv2.bitwise_not(img)\n",
    "    plt.imshow(img_not)\n",
    "    plt.title('Invert Image')\n",
    "    return img_not\n",
    "    "
   ]
  },
  {
   "cell_type": "code",
   "execution_count": null,
   "id": "cdbf3283",
   "metadata": {},
   "outputs": [],
   "source": [
    "def Cwtsd_ima(image : 'imageio.core.util.image'=\"\" , Connectivity):\n",
    "    "
   ]
  }
 ],
 "metadata": {
  "kernelspec": {
   "display_name": "Python 3 (ipykernel)",
   "language": "python",
   "name": "python3"
  },
  "language_info": {
   "codemirror_mode": {
    "name": "ipython",
    "version": 3
   },
   "file_extension": ".py",
   "mimetype": "text/x-python",
   "name": "python",
   "nbconvert_exporter": "python",
   "pygments_lexer": "ipython3",
   "version": "3.9.7"
  }
 },
 "nbformat": 4,
 "nbformat_minor": 5
}
